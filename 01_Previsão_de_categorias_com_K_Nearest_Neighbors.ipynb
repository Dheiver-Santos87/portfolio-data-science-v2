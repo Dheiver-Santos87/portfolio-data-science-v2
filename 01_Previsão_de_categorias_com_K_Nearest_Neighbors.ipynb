{
  "cells": [
    {
      "cell_type": "markdown",
      "metadata": {
        "id": "dec6k1Qlo0zn"
      },
      "source": [
        "# Previsão de categorias com K-Nearest Neighbors\n",
        "\n",
        "**Objetivo**: O objetivo deste notebook é prever se uma transação é fraudulenta ou não usando o algoritmo K-NN com scikit-learn.\n",
        "\n",
        "## Índice\n",
        "\n",
        "1. Preparação de dados\n",
        "2. Implementação do algoritmo k-NN\n",
        "3. Ajuste de parâmetros usando GridsearchCV\n",
        "4. Dimensionamento"
      ]
    },
    {
      "cell_type": "markdown",
      "metadata": {
        "id": "e1o4kOZ0o01e"
      },
      "source": [
        "## Requisitos e pacote"
      ]
    },
    {
      "cell_type": "code",
      "execution_count": null,
      "metadata": {
        "id": "g8OZ6TRDo01g"
      },
      "outputs": [],
      "source": [
        "import pandas as pd\n",
        "import numpy as np\n",
        "import matplotlib.pyplot as plt\n",
        "from sklearn.preprocessing import LabelEncoder\n",
        "from sklearn.preprocessing import OneHotEncoder\n",
        "from sklearn.model_selection import train_test_split\n",
        "from sklearn.neighbors import KNeighborsClassifier\n",
        "from sklearn.model_selection import GridSearchCV\n",
        "from sklearn.preprocessing import StandardScaler\n",
        "from sklearn.pipeline import Pipeline\n",
        "from sklearn.metrics import confusion_matrix\n",
        "from sklearn.metrics import classification_report\n",
        "from sklearn.metrics import roc_curve\n",
        "from sklearn.metrics import roc_auc_score"
      ]
    },
    {
      "cell_type": "markdown",
      "metadata": {
        "id": "l0TnSLyoo01t"
      },
      "source": [
        "## Preparação de dados"
      ]
    },
    {
      "cell_type": "code",
      "execution_count": null,
      "metadata": {
        "id": "na3YqMbeo01u"
      },
      "outputs": [],
      "source": [
        "#Reading in the dataset\n",
        "\n",
        "df = pd.read_csv('PS_20174392719_1491204439457_log.csv')"
      ]
    },
    {
      "cell_type": "code",
      "execution_count": null,
      "metadata": {
        "id": "rfSvz5MOo01v",
        "outputId": "1e610c85-8cb3-4211-ab40-12c1dd8224af"
      },
      "outputs": [
        {
          "data": {
            "text/html": [
              "<div>\n",
              "<style scoped>\n",
              "    .dataframe tbody tr th:only-of-type {\n",
              "        vertical-align: middle;\n",
              "    }\n",
              "\n",
              "    .dataframe tbody tr th {\n",
              "        vertical-align: top;\n",
              "    }\n",
              "\n",
              "    .dataframe thead th {\n",
              "        text-align: right;\n",
              "    }\n",
              "</style>\n",
              "<table border=\"1\" class=\"dataframe\">\n",
              "  <thead>\n",
              "    <tr style=\"text-align: right;\">\n",
              "      <th></th>\n",
              "      <th>step</th>\n",
              "      <th>type</th>\n",
              "      <th>amount</th>\n",
              "      <th>nameOrig</th>\n",
              "      <th>oldbalanceOrg</th>\n",
              "      <th>newbalanceOrig</th>\n",
              "      <th>nameDest</th>\n",
              "      <th>oldbalanceDest</th>\n",
              "      <th>newbalanceDest</th>\n",
              "      <th>isFraud</th>\n",
              "      <th>isFlaggedFraud</th>\n",
              "    </tr>\n",
              "  </thead>\n",
              "  <tbody>\n",
              "    <tr>\n",
              "      <th>0</th>\n",
              "      <td>1</td>\n",
              "      <td>PAYMENT</td>\n",
              "      <td>9839.64</td>\n",
              "      <td>C1231006815</td>\n",
              "      <td>170136.0</td>\n",
              "      <td>160296.36</td>\n",
              "      <td>M1979787155</td>\n",
              "      <td>0.0</td>\n",
              "      <td>0.0</td>\n",
              "      <td>0</td>\n",
              "      <td>0</td>\n",
              "    </tr>\n",
              "    <tr>\n",
              "      <th>1</th>\n",
              "      <td>1</td>\n",
              "      <td>PAYMENT</td>\n",
              "      <td>1864.28</td>\n",
              "      <td>C1666544295</td>\n",
              "      <td>21249.0</td>\n",
              "      <td>19384.72</td>\n",
              "      <td>M2044282225</td>\n",
              "      <td>0.0</td>\n",
              "      <td>0.0</td>\n",
              "      <td>0</td>\n",
              "      <td>0</td>\n",
              "    </tr>\n",
              "    <tr>\n",
              "      <th>2</th>\n",
              "      <td>1</td>\n",
              "      <td>TRANSFER</td>\n",
              "      <td>181.00</td>\n",
              "      <td>C1305486145</td>\n",
              "      <td>181.0</td>\n",
              "      <td>0.00</td>\n",
              "      <td>C553264065</td>\n",
              "      <td>0.0</td>\n",
              "      <td>0.0</td>\n",
              "      <td>1</td>\n",
              "      <td>0</td>\n",
              "    </tr>\n",
              "    <tr>\n",
              "      <th>3</th>\n",
              "      <td>1</td>\n",
              "      <td>CASH_OUT</td>\n",
              "      <td>181.00</td>\n",
              "      <td>C840083671</td>\n",
              "      <td>181.0</td>\n",
              "      <td>0.00</td>\n",
              "      <td>C38997010</td>\n",
              "      <td>21182.0</td>\n",
              "      <td>0.0</td>\n",
              "      <td>1</td>\n",
              "      <td>0</td>\n",
              "    </tr>\n",
              "    <tr>\n",
              "      <th>4</th>\n",
              "      <td>1</td>\n",
              "      <td>PAYMENT</td>\n",
              "      <td>11668.14</td>\n",
              "      <td>C2048537720</td>\n",
              "      <td>41554.0</td>\n",
              "      <td>29885.86</td>\n",
              "      <td>M1230701703</td>\n",
              "      <td>0.0</td>\n",
              "      <td>0.0</td>\n",
              "      <td>0</td>\n",
              "      <td>0</td>\n",
              "    </tr>\n",
              "  </tbody>\n",
              "</table>\n",
              "</div>"
            ],
            "text/plain": [
              "   step      type    amount     nameOrig  oldbalanceOrg  newbalanceOrig  \\\n",
              "0     1   PAYMENT   9839.64  C1231006815       170136.0       160296.36   \n",
              "1     1   PAYMENT   1864.28  C1666544295        21249.0        19384.72   \n",
              "2     1  TRANSFER    181.00  C1305486145          181.0            0.00   \n",
              "3     1  CASH_OUT    181.00   C840083671          181.0            0.00   \n",
              "4     1   PAYMENT  11668.14  C2048537720        41554.0        29885.86   \n",
              "\n",
              "      nameDest  oldbalanceDest  newbalanceDest  isFraud  isFlaggedFraud  \n",
              "0  M1979787155             0.0             0.0        0               0  \n",
              "1  M2044282225             0.0             0.0        0               0  \n",
              "2   C553264065             0.0             0.0        1               0  \n",
              "3    C38997010         21182.0             0.0        1               0  \n",
              "4  M1230701703             0.0             0.0        0               0  "
            ]
          },
          "execution_count": 4,
          "metadata": {},
          "output_type": "execute_result"
        }
      ],
      "source": [
        "#Viewing the data\n",
        "\n",
        "df.head()"
      ]
    },
    {
      "cell_type": "markdown",
      "metadata": {
        "id": "n8K1r7oro01-"
      },
      "source": [
        "**Eliminando os recursos redundantes**"
      ]
    },
    {
      "cell_type": "code",
      "execution_count": null,
      "metadata": {
        "id": "jX1uGt5io01_"
      },
      "outputs": [],
      "source": [
        "#Dropping the redundant features\n",
        "\n",
        "df = df.drop(['nameOrig', 'nameDest', 'isFlaggedFraud'], axis = 1)"
      ]
    },
    {
      "cell_type": "code",
      "execution_count": null,
      "metadata": {
        "id": "TgTcWLCUo02A",
        "outputId": "1dbdf96a-ec71-45b0-917d-3600a34078a3"
      },
      "outputs": [
        {
          "name": "stdout",
          "output_type": "stream",
          "text": [
            "<class 'pandas.core.frame.DataFrame'>\n",
            "RangeIndex: 6362620 entries, 0 to 6362619\n",
            "Data columns (total 8 columns):\n",
            "step              int64\n",
            "type              object\n",
            "amount            float64\n",
            "oldbalanceOrg     float64\n",
            "newbalanceOrig    float64\n",
            "oldbalanceDest    float64\n",
            "newbalanceDest    float64\n",
            "isFraud           int64\n",
            "dtypes: float64(5), int64(2), object(1)\n",
            "memory usage: 388.3+ MB\n"
          ]
        }
      ],
      "source": [
        "#Inspecting the data\n",
        "\n",
        "df.info()"
      ]
    },
    {
      "cell_type": "markdown",
      "metadata": {
        "id": "p3srFl8Qo02C"
      },
      "source": [
        "**Reduzindo o tamanho dos dados**"
      ]
    },
    {
      "cell_type": "code",
      "execution_count": null,
      "metadata": {
        "id": "YdEvjOPUo02D"
      },
      "outputs": [],
      "source": [
        "#Storing the fraudulent data into a dataframe\n",
        "\n",
        "df_fraud = df[df['isFraud'] == 1]"
      ]
    },
    {
      "cell_type": "code",
      "execution_count": null,
      "metadata": {
        "id": "Nst-479vo02I"
      },
      "outputs": [],
      "source": [
        "#Storing the non-fraudulent data into a dataframe \n",
        "\n",
        "df_nofraud = df[df['isFraud'] == 0]"
      ]
    },
    {
      "cell_type": "code",
      "execution_count": null,
      "metadata": {
        "id": "HaL0B7B-o02M"
      },
      "outputs": [],
      "source": [
        "#Storing 12,000 rows of non-fraudulent data\n",
        "\n",
        "df_nofraud = df_nofraud.head(12000)"
      ]
    },
    {
      "cell_type": "code",
      "execution_count": null,
      "metadata": {
        "id": "WLybf9uYo02N"
      },
      "outputs": [],
      "source": [
        "#Joining both datasets together \n",
        "\n",
        "df = pd.concat([df_fraud, df_nofraud], axis = 0)"
      ]
    },
    {
      "cell_type": "code",
      "execution_count": null,
      "metadata": {
        "id": "j3tdtIH_o02O",
        "outputId": "fea97ceb-40e9-4919-f9d0-56a00568ecd1"
      },
      "outputs": [
        {
          "name": "stdout",
          "output_type": "stream",
          "text": [
            "<class 'pandas.core.frame.DataFrame'>\n",
            "Int64Index: 20213 entries, 2 to 12071\n",
            "Data columns (total 8 columns):\n",
            "step              20213 non-null int64\n",
            "type              20213 non-null object\n",
            "amount            20213 non-null float64\n",
            "oldbalanceOrg     20213 non-null float64\n",
            "newbalanceOrig    20213 non-null float64\n",
            "oldbalanceDest    20213 non-null float64\n",
            "newbalanceDest    20213 non-null float64\n",
            "isFraud           20213 non-null int64\n",
            "dtypes: float64(5), int64(2), object(1)\n",
            "memory usage: 1.4+ MB\n"
          ]
        }
      ],
      "source": [
        "df.info()"
      ]
    },
    {
      "cell_type": "markdown",
      "metadata": {
        "id": "xqfhMu-Zo02Q"
      },
      "source": [
        "**Codificando o recurso categórico**"
      ]
    },
    {
      "cell_type": "code",
      "execution_count": null,
      "metadata": {
        "id": "VjyZh3Wuo02R"
      },
      "outputs": [],
      "source": [
        "#Converting the type column to categorical\n",
        "\n",
        "df['type'] = df['type'].astype('category')"
      ]
    },
    {
      "cell_type": "code",
      "execution_count": null,
      "metadata": {
        "id": "w3jGulHno02S"
      },
      "outputs": [],
      "source": [
        "#Integer Encoding the 'type' column\n",
        "\n",
        "type_encode = LabelEncoder()"
      ]
    },
    {
      "cell_type": "code",
      "execution_count": null,
      "metadata": {
        "id": "1jaYNhobo02U"
      },
      "outputs": [],
      "source": [
        "#Integer encoding the 'type' column\n",
        "\n",
        "df['type'] = type_encode.fit_transform(df.type)"
      ]
    },
    {
      "cell_type": "code",
      "execution_count": null,
      "metadata": {
        "id": "MC_naqHho02j",
        "outputId": "0fff0626-3069-45d2-a033-87f37cd56f67"
      },
      "outputs": [
        {
          "data": {
            "text/plain": [
              "3    6732\n",
              "1    5694\n",
              "4    5231\n",
              "0    2186\n",
              "2     370\n",
              "Name: type, dtype: int64"
            ]
          },
          "execution_count": 23,
          "metadata": {},
          "output_type": "execute_result"
        }
      ],
      "source": [
        "df['type'].value_counts()"
      ]
    },
    {
      "cell_type": "code",
      "execution_count": null,
      "metadata": {
        "id": "gaTPNFaRo02k"
      },
      "outputs": [],
      "source": [
        "#One hot encoding the 'type' column\n",
        "\n",
        "type_one_hot = OneHotEncoder()\n",
        "type_one_hot_encode = type_one_hot.fit_transform(df.type.values.reshape(-1,1)).toarray()"
      ]
    },
    {
      "cell_type": "code",
      "execution_count": null,
      "metadata": {
        "id": "fmjFETkAo02l"
      },
      "outputs": [],
      "source": [
        "#Adding the one hot encoded variables to the dataset \n",
        "\n",
        "ohe_variable = pd.DataFrame(type_one_hot_encode, columns = [\"type_\"+str(int(i)) for i in range(type_one_hot_encode.shape[1])])\n",
        "df = pd.concat([df, ohe_variable], axis=1)"
      ]
    },
    {
      "cell_type": "code",
      "execution_count": null,
      "metadata": {
        "id": "xO59kBbko02u"
      },
      "outputs": [],
      "source": [
        "#Dropping the original type variable \n",
        "\n",
        "df = df.drop('type', axis = 1)"
      ]
    },
    {
      "cell_type": "markdown",
      "metadata": {
        "id": "3u9BQyx3o02y"
      },
      "source": [
        "**Verificando valores ausentes**"
      ]
    },
    {
      "cell_type": "code",
      "execution_count": null,
      "metadata": {
        "id": "fFgsycAuo02z",
        "outputId": "f1c5fb01-fdc8-4642-8463-ce8e9b4cadf8"
      },
      "outputs": [
        {
          "data": {
            "text/plain": [
              "step              True\n",
              "type              True\n",
              "amount            True\n",
              "oldbalanceOrg     True\n",
              "newbalanceOrig    True\n",
              "oldbalanceDest    True\n",
              "newbalanceDest    True\n",
              "isFraud           True\n",
              "type_0            True\n",
              "type_1            True\n",
              "type_2            True\n",
              "type_3            True\n",
              "type_4            True\n",
              "dtype: bool"
            ]
          },
          "execution_count": 32,
          "metadata": {},
          "output_type": "execute_result"
        }
      ],
      "source": [
        "#Checking every column for missing values\n",
        "\n",
        "df.isnull().any()"
      ]
    },
    {
      "cell_type": "code",
      "execution_count": null,
      "metadata": {
        "id": "htTdk4dJo03h"
      },
      "outputs": [],
      "source": [
        "#Imputing the missing values with a 0\n",
        "\n",
        "df = df.fillna(0)"
      ]
    },
    {
      "cell_type": "code",
      "execution_count": null,
      "metadata": {
        "id": "qwE1ozLto03i",
        "outputId": "55b28474-8437-4bab-d7d6-8e6b51cf9cb0"
      },
      "outputs": [
        {
          "data": {
            "text/plain": [
              "step              False\n",
              "type              False\n",
              "amount            False\n",
              "oldbalanceOrg     False\n",
              "newbalanceOrig    False\n",
              "oldbalanceDest    False\n",
              "newbalanceDest    False\n",
              "isFraud           False\n",
              "type_0            False\n",
              "type_1            False\n",
              "type_2            False\n",
              "type_3            False\n",
              "type_4            False\n",
              "dtype: bool"
            ]
          },
          "execution_count": 34,
          "metadata": {},
          "output_type": "execute_result"
        }
      ],
      "source": [
        "#Checking if there are missing values left\n",
        "\n",
        "df.isnull().any()"
      ]
    },
    {
      "cell_type": "markdown",
      "metadata": {
        "id": "ps0AyXKho03j"
      },
      "source": [
        "**Exportando o conjunto de dados**"
      ]
    },
    {
      "cell_type": "code",
      "execution_count": null,
      "metadata": {
        "id": "anTO9XbAo03j"
      },
      "outputs": [],
      "source": [
        "df.to_csv('fraud_prediction.csv')"
      ]
    },
    {
      "cell_type": "markdown",
      "metadata": {
        "id": "Bu5eAOD1o03k"
      },
      "source": [
        "## Implementando o Algoritmo k-NN"
      ]
    },
    {
      "cell_type": "code",
      "execution_count": null,
      "metadata": {
        "id": "5WRW_xhjo03k"
      },
      "outputs": [],
      "source": [
        "#Creating the features \n",
        "\n",
        "features = df.drop('isFraud', axis = 1).values\n",
        "target = df['isFraud'].values"
      ]
    },
    {
      "cell_type": "markdown",
      "metadata": {
        "id": "GhUl3pJCo03l"
      },
      "source": [
        "**Dividindo os dados em conjuntos de treinamento e teste**"
      ]
    },
    {
      "cell_type": "code",
      "execution_count": null,
      "metadata": {
        "id": "5Bpl1yd7o03-"
      },
      "outputs": [],
      "source": [
        "X_train, X_test, y_train, y_test = train_test_split(features, target, test_size = 0.3, random_state = 42, stratify = target)"
      ]
    },
    {
      "cell_type": "markdown",
      "metadata": {
        "id": "0FZD7APuo03_"
      },
      "source": [
        "**Construindo o classificador knn**"
      ]
    },
    {
      "cell_type": "code",
      "execution_count": null,
      "metadata": {
        "id": "PR72791zo03_"
      },
      "outputs": [],
      "source": [
        "knn_classifier = KNeighborsClassifier(n_neighbors=3)"
      ]
    },
    {
      "cell_type": "code",
      "execution_count": null,
      "metadata": {
        "id": "5X2wwDIao04A",
        "outputId": "b041beac-303b-4873-cb72-da95c3fee838"
      },
      "outputs": [
        {
          "data": {
            "text/plain": [
              "KNeighborsClassifier(algorithm='auto', leaf_size=30, metric='minkowski',\n",
              "           metric_params=None, n_jobs=1, n_neighbors=3, p=2,\n",
              "           weights='uniform')"
            ]
          },
          "execution_count": 42,
          "metadata": {},
          "output_type": "execute_result"
        }
      ],
      "source": [
        "knn_classifier.fit(X_train, y_train)"
      ]
    },
    {
      "cell_type": "code",
      "execution_count": null,
      "metadata": {
        "id": "-cROI8IAo04B",
        "outputId": "19e0fb15-dfe1-4b9f-fa8d-e1db4059cf0c"
      },
      "outputs": [
        {
          "data": {
            "text/plain": [
              "0.98306679209783632"
            ]
          },
          "execution_count": 44,
          "metadata": {},
          "output_type": "execute_result"
        }
      ],
      "source": [
        "knn_classifier.score(X_test, y_test)"
      ]
    },
    {
      "cell_type": "markdown",
      "metadata": {
        "id": "NXc8npdNo04C"
      },
      "source": [
        "## Parâmetros de ajuste fino usando GridSearchCV"
      ]
    },
    {
      "cell_type": "code",
      "execution_count": null,
      "metadata": {
        "id": "KpGo8sXqo04D",
        "outputId": "e2d6d936-f5e0-4d89-dde7-a628cf7ed6ff"
      },
      "outputs": [
        {
          "data": {
            "text/plain": [
              "GridSearchCV(cv=10, error_score='raise',\n",
              "       estimator=KNeighborsClassifier(algorithm='auto', leaf_size=30, metric='minkowski',\n",
              "           metric_params=None, n_jobs=1, n_neighbors=5, p=2,\n",
              "           weights='uniform'),\n",
              "       fit_params=None, iid=True, n_jobs=1,\n",
              "       param_grid={'n_neighbors': array([ 1,  2,  3,  4,  5,  6,  7,  8,  9, 10, 11, 12, 13, 14, 15, 16, 17,\n",
              "       18, 19, 20, 21, 22, 23, 24])},\n",
              "       pre_dispatch='2*n_jobs', refit=True, return_train_score='warn',\n",
              "       scoring=None, verbose=0)"
            ]
          },
          "execution_count": 48,
          "metadata": {},
          "output_type": "execute_result"
        }
      ],
      "source": [
        "#Initializing a grid with possible number of neighbors from 1 to 24\n",
        "\n",
        "grid = {'n_neighbors' : np.arange(1, 25)}\n",
        "\n",
        "#Initializing a k-NN classifier \n",
        "\n",
        "knn_classifier = KNeighborsClassifier()\n",
        "\n",
        "#Using cross validation to find optimal number of neighbors \n",
        "\n",
        "knn = GridSearchCV(knn_classifier, grid, cv = 10)\n",
        "\n",
        "knn.fit(X_train, y_train)"
      ]
    },
    {
      "cell_type": "code",
      "execution_count": null,
      "metadata": {
        "id": "tyOtFrp3o04E",
        "outputId": "32bf6f55-445e-4055-baa0-5f9c64c46286"
      },
      "outputs": [
        {
          "data": {
            "text/plain": [
              "{'n_neighbors': 1}"
            ]
          },
          "execution_count": 49,
          "metadata": {},
          "output_type": "execute_result"
        }
      ],
      "source": [
        "#Extracting the optimal number of neighbors \n",
        "\n",
        "knn.best_params_"
      ]
    },
    {
      "cell_type": "code",
      "execution_count": null,
      "metadata": {
        "id": "0SlEeDxzo04F",
        "outputId": "f16f0f8c-2c3f-443a-a6aa-ca0f6607bb8a"
      },
      "outputs": [
        {
          "data": {
            "text/plain": [
              "0.9850813971070006"
            ]
          },
          "execution_count": 50,
          "metadata": {},
          "output_type": "execute_result"
        }
      ],
      "source": [
        "#Extracting the accuracy score for optimal number of neighbors\n",
        "\n",
        "knn.best_score_"
      ]
    },
    {
      "cell_type": "markdown",
      "metadata": {
        "id": "vu_YFbHBo04F"
      },
      "source": [
        "## Scaling"
      ]
    },
    {
      "cell_type": "code",
      "execution_count": null,
      "metadata": {
        "id": "-FvcEVb8o04G",
        "outputId": "8e0f3595-9e84-4911-c41e-a9bfc2f39070"
      },
      "outputs": [
        {
          "data": {
            "text/plain": [
              "0.99753057384760113"
            ]
          },
          "execution_count": 55,
          "metadata": {},
          "output_type": "execute_result"
        }
      ],
      "source": [
        "#Setting up the scaling pipeline \n",
        "\n",
        "pipeline_order = [('scaler', StandardScaler()), ('knn', KNeighborsClassifier(n_neighbors = 1))]\n",
        "\n",
        "pipeline = Pipeline(pipeline_order)\n",
        "\n",
        "#Fitting the classfier to the scaled dataset \n",
        "\n",
        "knn_classifier_scaled = pipeline.fit(X_train, y_train)\n",
        "\n",
        "#Extracting the score \n",
        "\n",
        "knn_classifier_scaled.score(X_test, y_test)"
      ]
    }
  ],
  "metadata": {
    "kernelspec": {
      "display_name": "Python 3",
      "language": "python",
      "name": "python3"
    },
    "language_info": {
      "codemirror_mode": {
        "name": "ipython",
        "version": 3
      },
      "file_extension": ".py",
      "mimetype": "text/x-python",
      "name": "python",
      "nbconvert_exporter": "python",
      "pygments_lexer": "ipython3",
      "version": "3.6.1"
    },
    "colab": {
      "provenance": []
    }
  },
  "nbformat": 4,
  "nbformat_minor": 0
}